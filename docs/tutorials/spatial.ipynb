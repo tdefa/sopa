{
 "cells": [
  {
   "cell_type": "code",
   "execution_count": 1,
   "metadata": {},
   "source": [
    "import anndata\n",
    "import seaborn as sns\n",
    "import matplotlib.pyplot as plt\n",
    "\n",
    "import sopa\n",
    "import sopa.spatial\n",
    "\n",
    "heatmap_kwargs = {\"vmax\": 40, \"cmap\": sns.cm.rocket_r, \"cbar_kws\": {'label': 'Mean hop distance'}}"
   ],
   "outputs": []
  },
  {
   "cell_type": "markdown",
   "metadata": {},
   "source": [
    "## 1. Prepare your data\n",
    "\n",
    "You'll need the `AnnData` output of Sopa. If using the `SpatialData` object itself, simply extract the table.\n",
    "\n",
    "Make sure you have at least a cell-type annotation (i.e. a column in `adata.obs` corresponding to cell-types), and eventually a niche annotation (with algorithms such as [STAGATE](https://github.com/zhanglabtools/STAGATE)).\n",
    "\n",
    "#### (Optional) Download the tutorial data\n",
    "\n",
    "The `.h5ad` file used in this tutorial is publicly available on Zenodo [here](https://doi.org/10.5281/zenodo.10512440)."
   ]
  },
  {
   "cell_type": "code",
   "execution_count": 2,
   "metadata": {},
   "source": [
    "adata = anndata.read_h5ad(\"adata_liver_merscope.h5ad\")"
   ],
   "outputs": []
  },
  {
   "cell_type": "markdown",
   "metadata": {},
   "source": [
    "Then, compute the Delaunay graph on your data. Especially, use the `radius` argument to drop long edges. In this examples, edges longer than 50 microns are removed.\n",
    "> The later function comes from [Squidpy](https://squidpy.readthedocs.io/en/latest/api/squidpy.gr.spatial_neighbors.html#squidpy.gr.spatial_neighbors)."
   ]
  },
  {
   "cell_type": "code",
   "execution_count": 3,
   "metadata": {},
   "source": [
    "sopa.spatial.spatial_neighbors(adata, radius=[0, 50])"
   ],
   "outputs": []
  },
  {
   "cell_type": "markdown",
   "metadata": {},
   "source": [
    "## 2. Distances between cell categories\n",
    "\n",
    "You can compute the mean hop-distance between all pairs of cell-types:\n",
    "> Below, `'cell_type'` is the name of the column of `adata.obs` containing the cell-type annotation"
   ]
  },
  {
   "cell_type": "code",
   "execution_count": 4,
   "metadata": {},
   "source": [
    "cell_type_to_cell_type = sopa.spatial.mean_distance(adata, \"cell_type\", \"cell_type\")"
   ],
   "outputs": []
  },
  {
   "cell_type": "code",
   "execution_count": 5,
   "metadata": {},
   "source": [
    "plt.figure(figsize=(7, 6))\n",
    "sns.heatmap(cell_type_to_cell_type, **heatmap_kwargs)"
   ],
   "outputs": []
  },
  {
   "cell_type": "markdown",
   "metadata": {},
   "source": [
    "Similary, you can compute the mean hop-distance between all pairs of cell-types and niches:"
   ]
  },
  {
   "cell_type": "code",
   "execution_count": 6,
   "metadata": {},
   "source": [
    "cell_type_to_niche = sopa.spatial.mean_distance(adata, \"cell_type\", \"niches\")"
   ],
   "outputs": []
  },
  {
   "cell_type": "code",
   "execution_count": 7,
   "metadata": {},
   "source": [
    "plt.figure(figsize=(3, 6))\n",
    "sns.heatmap(cell_type_to_niche, **heatmap_kwargs)"
   ],
   "outputs": []
  },
  {
   "cell_type": "markdown",
   "metadata": {},
   "source": [
    "Same between niches and niches:"
   ]
  },
  {
   "cell_type": "code",
   "execution_count": 8,
   "metadata": {},
   "source": [
    "niche_to_niche = sopa.spatial.mean_distance(adata, \"niches\")"
   ],
   "outputs": []
  },
  {
   "cell_type": "code",
   "execution_count": 9,
   "metadata": {},
   "source": [
    "plt.figure(figsize=(3, 3))\n",
    "sns.heatmap(niche_to_niche, **heatmap_kwargs)"
   ],
   "outputs": []
  },
  {
   "cell_type": "markdown",
   "metadata": {},
   "source": [
    "## 3. Transform niches into shapes\n",
    "If desired, niches can be transformed into [Shapely](https://shapely.readthedocs.io/en/stable/index.html) geometries. Each occurence of a specific niche will correspond to one Polygon. This makes efficient further operations on niches, such as the one in the next section."
   ]
  },
  {
   "cell_type": "code",
   "execution_count": 10,
   "metadata": {},
   "source": [
    "gdf = sopa.spatial.geometrize_niches(adata, \"niches\")\n",
    "gdf"
   ],
   "outputs": []
  },
  {
   "cell_type": "markdown",
   "metadata": {},
   "source": [
    "Now, each occurence (or connected component) of each niche category is a Polygon. On this example, the Necrosis niche has 3 components, as shown below."
   ]
  },
  {
   "cell_type": "code",
   "execution_count": 11,
   "metadata": {},
   "source": [
    "legend_kwds = {\"bbox_to_anchor\": (1.04, 0.5), \"loc\": \"center left\", \"borderaxespad\": 0, \"frameon\": False, \"title\": \"Niches\"}\n",
    "\n",
    "gdf.plot(column=\"niches\", legend=True, legend_kwds=legend_kwds)"
   ],
   "outputs": []
  },
  {
   "cell_type": "markdown",
   "metadata": {},
   "source": [
    "## 4. Niches geometries\n",
    "For each niche, we can compute geometric properties. Here, we computed some simple properties of each niche: their mean length (or perimeter), their mean area, and their mean roundness (score between 0 and 1, where high values means \"circle\"-like shape).\n",
    "\n",
    "> NB: Since one niche can be divided into multiple connected components (or multiple occurences), we indeed need to average the above geometric properties over all connected components of one niche category"
   ]
  },
  {
   "cell_type": "code",
   "execution_count": 12,
   "metadata": {},
   "source": [
    "df_niches_geometries = sopa.spatial.niches_geometry_stats(adata, \"niches\")\n",
    "df_niches_geometries"
   ],
   "outputs": []
  },
  {
   "cell_type": "code",
   "execution_count": 13,
   "metadata": {},
   "source": [
    "fig, axes = plt.subplots(1, 4, figsize=(15, 6))\n",
    "\n",
    "for i, name in enumerate([\"n_components\", \"length\", \"area\", \"roundness\"]):\n",
    "    vmax = df_niches_geometries[name].sort_values()[-2:].mean()\n",
    "    sns.heatmap(df_niches_geometries[[name]], cmap=\"viridis\", annot=True, fmt=\".2f\", vmax=vmax, ax=axes[i])\n",
    "\n",
    "plt.subplots_adjust(wspace=1.5)"
   ],
   "outputs": []
  },
  {
   "cell_type": "markdown",
   "metadata": {},
   "source": [
    "## 5. Cell-type / Niche network\n",
    "\n",
    "The distances between cell-types and/or niches can be summerized into one network, and plot with the [Netgraph](https://netgraph.readthedocs.io/en/latest/index.html) library. It provides a quick overview of the interactions happening in the micro-environment of one slide.\n",
    "\n",
    "To continue, you'll need to install Louvain and Netgraph:\n",
    "\n",
    "```sh\n",
    "!pip install python-louvain\n",
    "!pip install netgraph\n",
    "```"
   ]
  },
  {
   "cell_type": "code",
   "execution_count": 14,
   "metadata": {},
   "source": [
    "import networkx as nx\n",
    "from community import community_louvain\n",
    "from netgraph import Graph"
   ],
   "outputs": []
  },
  {
   "cell_type": "code",
   "execution_count": 15,
   "metadata": {},
   "source": [
    "weights, node_color, node_size, node_shape = sopa.spatial.prepare_network(adata, \"cell_type\", \"niches\")"
   ],
   "outputs": []
  },
  {
   "cell_type": "code",
   "execution_count": 16,
   "metadata": {},
   "source": [
    "g = nx.from_pandas_adjacency(weights)\n",
    "node_to_community = community_louvain.best_partition(g, resolution=1.35)"
   ],
   "outputs": []
  },
  {
   "cell_type": "code",
   "execution_count": 17,
   "metadata": {},
   "source": [
    "Graph(g,\n",
    "      node_size=node_size,\n",
    "      node_color=node_color,\n",
    "      node_shape=node_shape,\n",
    "      node_edge_width=0,\n",
    "      node_layout='community',\n",
    "      node_layout_kwargs=dict(node_to_community=node_to_community),\n",
    "      node_labels=True,\n",
    "      node_label_fontdict=dict(size=6, weight=\"bold\"),\n",
    "      edge_alpha=1,\n",
    "      edge_width=0.5,\n",
    "      edge_layout_kwargs=dict(k=2000),\n",
    "      edge_layout='bundled',\n",
    ")"
   ],
   "outputs": []
  }
 ],
 "metadata": {
  "kernelspec": {
   "display_name": "sopa-hDHgkEug-py3.10",
   "language": "python",
   "name": "python3"
  },
  "language_info": {
   "codemirror_mode": {
    "name": "ipython",
    "version": 3
   },
   "file_extension": ".py",
   "mimetype": "text/x-python",
   "name": "python",
   "nbconvert_exporter": "python",
   "pygments_lexer": "ipython3",
   "version": "3.10.12"
  }
 },
 "nbformat": 4,
 "nbformat_minor": 2
}
