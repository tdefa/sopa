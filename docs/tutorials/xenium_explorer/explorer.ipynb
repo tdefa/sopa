{
 "cells": [
  {
   "cell_type": "markdown",
   "metadata": {},
   "source": [
    "This tutorial shows interoperability tools between Sopa and the Xenium Explorer. We show how to go back and forth, between analysis and visualization.\n",
    "\n",
    "Ensure that you have already run Sopa, either with the Snakemake pipeline, CLI, or API.\n",
    "\n",
    "For **image alignment** with the Xenium Explorer, refer to [this tutorial](https://gustaveroussy.github.io/sopa/tutorials/align/)."
   ]
  },
  {
   "cell_type": "code",
   "execution_count": 1,
   "metadata": {},
   "source": [
    "import sopa\n",
    "import sopa.io\n",
    "import sopa.segmentation\n",
    "import spatialdata"
   ],
   "outputs": []
  },
  {
   "cell_type": "markdown",
   "metadata": {},
   "source": [
    "For this tutorial, we use some generated data that looks similar to the output of Sopa."
   ]
  },
  {
   "cell_type": "code",
   "execution_count": null,
   "metadata": {},
   "source": [
    "### if you have your own data:\n",
    "# sdata = spatialdata.read_zarr(\"...\")\n",
    "\n",
    "### to use the tutorial data\n",
    "sdata = sopa.io.uniform(as_output=True)"
   ],
   "outputs": []
  },
  {
   "cell_type": "code",
   "execution_count": 23,
   "metadata": {},
   "source": [
    "explorer_path = \"tuto.explorer\" # where the Xenium Explorer data was or will be saved"
   ],
   "outputs": []
  },
  {
   "cell_type": "markdown",
   "metadata": {},
   "source": [
    "Now, we need to create the Xenium Explorer input files. **If you have already run Sopa** on your own data, you don't need to run the lines below because you already have the Xenium Explorer input."
   ]
  },
  {
   "cell_type": "code",
   "execution_count": null,
   "metadata": {},
   "source": [
    "### if you don't have the `.explorer` directory yet\n",
    "sopa.io.write(explorer_path, sdata, gene_column=\"genes\")"
   ],
   "outputs": []
  },
  {
   "cell_type": "markdown",
   "metadata": {},
   "source": [
    "## Update the cell categories/clusters\n",
    "\n",
    "Here, we run some Leiden clustering with `scanpy`. Then, we will update the Xenium Explorer files to display the spot clusters.\n",
    "\n",
    "More generally, you can add new cell categories, i.e. a column of `sdata.table.obs`, and the Xenium Explorer will show it after the instructions below.\n",
    "\n",
    "> Note that we only display categorical columns. If a column from `sdata.table.obs` contains continuous numerical values (e.g., `3.13, 7.89, ...`), it will not be transformed into a categorical variable, and therefore not shown in the Xenium Explorer. In this case, we recommend using the [`spatiadata_plot`](https://spatialdata.scverse.org/projects/plot/en/latest/index.html) static plotting library or the [`napari_spatialdata`](https://github.com/scverse/napari-spatialdata) interactive plotting library."
   ]
  },
  {
   "cell_type": "code",
   "execution_count": 3,
   "metadata": {},
   "source": [
    "import scanpy as sc\n",
    "\n",
    "adata = sdata.tables[\"table\"]"
   ],
   "outputs": []
  },
  {
   "cell_type": "code",
   "execution_count": 4,
   "metadata": {},
   "source": [
    "sc.pp.normalize_total(adata)\n",
    "sc.pp.log1p(adata)\n",
    "sc.pp.pca(adata)\n",
    "sc.pp.neighbors(adata)\n",
    "sc.tl.umap(adata)\n",
    "sc.tl.leiden(adata, resolution=0.1)"
   ],
   "outputs": []
  },
  {
   "cell_type": "code",
   "execution_count": 5,
   "metadata": {},
   "source": [
    "sc.pl.umap(adata, color=\"leiden\")"
   ],
   "outputs": []
  },
  {
   "cell_type": "markdown",
   "metadata": {},
   "source": [
    "Now, you can update the explorer with your new cluster assignment. You don't need to re-run the complete conversion; you can edit the `analysis.zarr.zip` file only, as below.\n",
    "\n",
    "> Alternatively, you can use the `sopa` CLI instead of the API, as detailed [here](https://gustaveroussy.github.io/sopa/cli/#sopa-explorer-update-obs)."
   ]
  },
  {
   "cell_type": "code",
   "execution_count": 8,
   "metadata": {},
   "source": [
    "sopa.io.write_cell_categories(explorer_path, adata)"
   ],
   "outputs": []
  },
  {
   "cell_type": "markdown",
   "metadata": {},
   "source": [
    "To visualize these clusters, re-open the `experiment.xenium` file and select the new `\"leiden\"` cell group (under the \"Cells\" panel and in the \"Cell groups\" dropdown). See the examples above to see how it looks on the Xenium Explorer.\n",
    "\n",
    "<img src=\"../../../assets/explorer/leiden.png\" alt=\"image\" width=\"800\" height=\"auto\">"
   ]
  },
  {
   "cell_type": "markdown",
   "metadata": {},
   "source": [
    "## Use the coordinates of a lasso selection in `SpatialData`\n",
    "\n",
    "On the Xenium Explorer, you can use the Lasso or Rectangular selection tools to select some regions of interest. Then, you'll be able to analyze back this region of interest using `spatialdata`.\n",
    "\n",
    "\n",
    "### Selecting cells from a selection\n",
    "After making a selection, click on \"Download Cell Stats as CSV\", as below. It will create a file called `\"Selection_1_cells_stats.csv\"`.\n",
    "\n",
    "<img src=\"../../../assets/explorer/lasso.png\" alt=\"image\" width=\"800\" height=\"auto\">"
   ]
  },
  {
   "cell_type": "code",
   "execution_count": 15,
   "metadata": {},
   "source": [
    "import pandas as pd\n",
    "\n",
    "# write below the path to the file that you downloaded, e.g. \"Selection_1_cells_stats.csv\"\n",
    "df_selection = pd.read_csv(\"Selection_1_cells_stats.csv\", skiprows=2)\n",
    "\n",
    "# we create a new column to annotate which cells were selected or not\n",
    "adata.obs[\"lasso\"] = \"not-selected\"\n",
    "adata.obs.loc[df_selection[\"Cell ID\"].values, \"lasso\"] = \"selected\""
   ],
   "outputs": []
  },
  {
   "cell_type": "markdown",
   "metadata": {},
   "source": [
    "Now, `sdata.table.obs[\"lasso\"]` denotes which cells have been selected by the lasso tool (either \"selected\" or \"not-selected\").\n",
    "\n",
    "We can then use `spatialdata_plot` to display the cells that were selected by the lasso tool. Make sure to install `spatialdata_plot >= 0.1.0`, e.g. via `pip install spatialdata_plot`. Now, we can render the shapes (i.e., the spots) and colour them based on the `\"lasso\"` column that was saved in `sdata.table.obs`:"
   ]
  },
  {
   "cell_type": "code",
   "execution_count": 16,
   "metadata": {},
   "source": [
    "import spatialdata_plot"
   ],
   "outputs": []
  },
  {
   "cell_type": "code",
   "execution_count": 17,
   "metadata": {},
   "source": [
    "sdata.pl.render_shapes(color=\"lasso\").pl.show(\"global\")"
   ],
   "outputs": []
  },
  {
   "cell_type": "markdown",
   "metadata": {},
   "source": [
    "### Cropping a `SpatialData` object from a selection\n",
    "\n",
    "You can also export the whole selection as a polygon and use it to crop the `spatialdata` object. For that, click on \"Download Selection Coordinates as CSV\", as below. It will create a file called `\"Selection_1_coordinates.csv\"`.\n",
    "\n",
    "<img src=\"../../../assets/explorer/lasso2.png\" alt=\"image\" width=\"800\" height=\"auto\">"
   ]
  },
  {
   "cell_type": "markdown",
   "metadata": {},
   "source": [
    "Then, we read the polygon coordinates, and perform a polygon query on the `\"global\"` coordinate system (i.e., the pixel coordinate system).\n",
    "\n",
    "> Note: if not using Xenium data, please provide the `pixel_size` argument in the `sopa.io.add_explorer_selection` function below (the `pixel_size` should be the one that has been used when running Sopa). If you used the snakemake pipeline, this argument can be found in the config. Without this, the polygon may not be in the right coordinate system."
   ]
  },
  {
   "cell_type": "code",
   "execution_count": 19,
   "metadata": {},
   "source": [
    "import spatialdata_io\n",
    "\n",
    "polygon = spatialdata_io.xenium_explorer_selection(\"Selection_1_coordinates.csv\")"
   ],
   "outputs": []
  },
  {
   "cell_type": "code",
   "execution_count": 20,
   "metadata": {},
   "source": [
    "query_sdata = sdata.query.polygon(polygon, target_coordinate_system=\"global\")\n",
    "query_sdata"
   ],
   "outputs": []
  },
  {
   "cell_type": "markdown",
   "metadata": {},
   "source": [
    "Using `spatialdata_plot`, we see that we indeed selected the cells we desired."
   ]
  },
  {
   "cell_type": "code",
   "execution_count": 21,
   "metadata": {},
   "source": [
    "query_sdata.pl.render_shapes().pl.show(\"global\")"
   ],
   "outputs": []
  },
  {
   "cell_type": "markdown",
   "metadata": {},
   "source": [
    "## Segmentation overlay\n",
    "\n",
    "Sometimes, you may need to select specific cells and update the segmentation accordingly. This can be specifically inetresting when you have multinucleated giant cells (MGC), which are difficult to segment. In that case, you can perform multiple lasso selections in the Xenium Explorer, and then download them all into one single file, as below.\n",
    "\n",
    "<img src=\"../../../assets/explorer/multi_lasso.png\" alt=\"image\" width=\"800\" height=\"auto\">\n",
    "\n",
    "Then, we can load the selection coordinates and save it as new `sdata` key. Here, we call it `\"large_cells\"`.\n",
    "\n",
    "> Note: if not using Xenium data, please provide the `pixel_size` argument in the `sopa.io.add_explorer_selection` function below (the `pixel_size` should be the one that has been used when running Sopa). If you used the snakemake pipeline, this argument can be found in the config. Without this, the polygon may not be in the right coordinate system."
   ]
  },
  {
   "cell_type": "code",
   "execution_count": 20,
   "metadata": {},
   "source": [
    "new_shapes_key = \"large_cells\"\n",
    "\n",
    "sopa.io.add_explorer_selection(sdata, \"coordinates.csv\", shapes_key=new_shapes_key)"
   ],
   "outputs": []
  },
  {
   "cell_type": "markdown",
   "metadata": {},
   "source": [
    "New shapes have been added to the `sdata` object:"
   ]
  },
  {
   "cell_type": "code",
   "execution_count": 19,
   "metadata": {},
   "source": [
    "sdata"
   ],
   "outputs": []
  },
  {
   "cell_type": "markdown",
   "metadata": {},
   "source": [
    "Now, we will update the segmentation. In particular, it will perform aggregation (i.e., counting the transcripts and/or averaging the channels inside the new cells), and it will remove cells that are behind the selected cells:"
   ]
  },
  {
   "cell_type": "code",
   "execution_count": 22,
   "metadata": {},
   "source": [
    "sopa.segmentation.overlay_segmentation(sdata, new_shapes_key, gene_column=\"genes\")"
   ],
   "outputs": []
  },
  {
   "cell_type": "markdown",
   "metadata": {},
   "source": [
    "Now, we have a new table (the old table is also kept), and we have new shapes called `'cellpose_boundaries+large_cells'`."
   ]
  },
  {
   "cell_type": "code",
   "execution_count": 23,
   "metadata": {},
   "source": [
    "sdata"
   ],
   "outputs": []
  },
  {
   "cell_type": "markdown",
   "metadata": {},
   "source": [
    "Now, we can update the Xenium Explorer.\n",
    "\n",
    "For this, we provide `mode=\"-it\"`, which means that images and transcripts will **not** be computed again. This is particular useful to save time: since we already have these files, they don't need to be updated."
   ]
  },
  {
   "cell_type": "code",
   "execution_count": 24,
   "metadata": {},
   "source": [
    "sopa.io.write(\n",
    "    explorer_path,\n",
    "    sdata,\n",
    "    shapes_key=\"cellpose_boundaries+large_cells\",\n",
    "    gene_column=\"genes\",\n",
    "    mode=\"-it\",\n",
    ")"
   ],
   "outputs": []
  },
  {
   "cell_type": "markdown",
   "metadata": {},
   "source": [
    "It will lead to the following visualization, i.e. the old cells with an overlay of the cells that we selected with the lasso tool:\n",
    "\n",
    "<img src=\"../../../assets/explorer/post_overlay.png\" alt=\"image\" width=\"800\" height=\"auto\">"
   ]
  }
 ],
 "metadata": {
  "kernelspec": {
   "display_name": "spatialdata-xenium-explorer-yAxRBYoR-py3.9",
   "language": "python",
   "name": "python3"
  },
  "language_info": {
   "codemirror_mode": {
    "name": "ipython",
    "version": 3
   },
   "file_extension": ".py",
   "mimetype": "text/x-python",
   "name": "python",
   "nbconvert_exporter": "python",
   "pygments_lexer": "ipython3",
   "version": "3.10.14"
  }
 },
 "nbformat": 4,
 "nbformat_minor": 2
}
